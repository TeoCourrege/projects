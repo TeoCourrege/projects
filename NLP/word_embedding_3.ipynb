{
  "cells": [
    {
      "cell_type": "markdown",
      "id": "6024249c",
      "metadata": {
        "id": "6024249c"
      },
      "source": [
        "# Session 3: Word embedding\n",
        "* Gensim provides the Word2Vec class for working with a Word2Vec model.\n",
        "* Learning a word embedding from text involves loading and organizing the text into sentences and providing them to the constructor of a new Word2Vec() instance."
      ]
    },
    {
      "cell_type": "code",
      "execution_count": null,
      "id": "9520564d",
      "metadata": {
        "id": "9520564d"
      },
      "outputs": [],
      "source": [
        "#pip install --upgrade gensim"
      ]
    },
    {
      "cell_type": "code",
      "execution_count": null,
      "id": "30463296",
      "metadata": {
        "id": "30463296",
        "outputId": "e5942fe2-2c33-4baa-d37f-75507a9bdcd8"
      },
      "outputs": [
        {
          "name": "stderr",
          "output_type": "stream",
          "text": [
            "Slow version of gensim.models.doc2vec is being used\n",
            "Slow version of Fasttext is being used\n"
          ]
        },
        {
          "name": "stdout",
          "output_type": "stream",
          "text": [
            "3.2.0\n"
          ]
        }
      ],
      "source": [
        "import gensim\n",
        "print(gensim.__version__)"
      ]
    },
    {
      "cell_type": "code",
      "execution_count": null,
      "id": "d1f64fb1",
      "metadata": {
        "id": "d1f64fb1",
        "outputId": "e89ad669-b0ad-4ca7-9417-78696c403b4b"
      },
      "outputs": [
        {
          "name": "stdout",
          "output_type": "stream",
          "text": [
            "['fasttext-wiki-news-subwords-300', 'conceptnet-numberbatch-17-06-300', 'word2vec-ruscorpora-300', 'word2vec-google-news-300', 'glove-wiki-gigaword-50', 'glove-wiki-gigaword-100', 'glove-wiki-gigaword-200', 'glove-wiki-gigaword-300', 'glove-twitter-25', 'glove-twitter-50', 'glove-twitter-100', 'glove-twitter-200', '__testing_word2vec-matrix-synopsis']\n"
          ]
        }
      ],
      "source": [
        "import gensim.downloader\n",
        "# Show all available models in gensim-data\n",
        "print(list(gensim.downloader.info()['models'].keys()))"
      ]
    },
    {
      "cell_type": "code",
      "execution_count": null,
      "id": "a3aaa543",
      "metadata": {
        "id": "a3aaa543",
        "outputId": "5a8f9cbe-b5d5-4739-cd00-3b785b9b3493"
      },
      "outputs": [
        {
          "data": {
            "text/plain": [
              "[('Twitter', 0.89089035987854),\n",
              " ('Twitter.com', 0.7536781430244446),\n",
              " ('tweet', 0.7431626319885254),\n",
              " ('tweeting', 0.7161931991577148),\n",
              " ('tweeted', 0.7137226462364197),\n",
              " ('facebook', 0.6988551616668701),\n",
              " ('tweets', 0.6974530220031738),\n",
              " ('Tweeted', 0.6950210928916931),\n",
              " ('Tweet', 0.6875007152557373),\n",
              " ('Tweeting', 0.6845167279243469)]"
            ]
          },
          "execution_count": 4,
          "metadata": {},
          "output_type": "execute_result"
        }
      ],
      "source": [
        "# Download the \"glove-twitter-25\" embeddings\n",
        "google_model = gensim.downloader.load('word2vec-google-news-300')\n",
        "# Use the downloaded vectors as usual:\n",
        "google_model.most_similar('twitter')"
      ]
    },
    {
      "cell_type": "code",
      "execution_count": null,
      "id": "78efc7ff",
      "metadata": {
        "id": "78efc7ff",
        "outputId": "c3fa4488-9c8f-4bb4-ccee-0b28b17c764c"
      },
      "outputs": [
        {
          "data": {
            "text/plain": [
              "[('queen', 0.7118192911148071)]"
            ]
          },
          "execution_count": 5,
          "metadata": {},
          "output_type": "execute_result"
        }
      ],
      "source": [
        "google_model.most_similar(positive=['woman', 'king'], negative=['man'], topn=1)"
      ]
    },
    {
      "cell_type": "code",
      "execution_count": null,
      "id": "db2773b4",
      "metadata": {
        "id": "db2773b4",
        "outputId": "ffeb3936-fac9-4a3e-eafa-b812e134790e"
      },
      "outputs": [
        {
          "data": {
            "text/plain": [
              "[('man', 0.7211092114448547)]"
            ]
          },
          "execution_count": 6,
          "metadata": {},
          "output_type": "execute_result"
        }
      ],
      "source": [
        "google_model.most_similar(positive=['woman', 'king'], negative=['queen'], topn=1)"
      ]
    },
    {
      "cell_type": "code",
      "execution_count": null,
      "id": "526b3100",
      "metadata": {
        "id": "526b3100",
        "outputId": "a31fbf8b-e15e-436b-f34e-c32686d8a3a6"
      },
      "outputs": [
        {
          "data": {
            "text/plain": [
              "[('France', 0.7884093523025513)]"
            ]
          },
          "execution_count": 7,
          "metadata": {},
          "output_type": "execute_result"
        }
      ],
      "source": [
        "google_model.most_similar(positive=['Paris','Germany'], negative=['Berlin'], topn = 1)"
      ]
    },
    {
      "cell_type": "code",
      "execution_count": null,
      "id": "70d8db18",
      "metadata": {
        "id": "70d8db18",
        "outputId": "917f7a94-928b-4486-8bc8-6c7588c690d6"
      },
      "outputs": [
        {
          "name": "stderr",
          "output_type": "stream",
          "text": [
            "/Users/afillatre/opt/anaconda3/lib/python3.9/site-packages/gensim/models/keyedvectors.py:735: FutureWarning: arrays to stack must be passed as a \"sequence\" type such as list or tuple. Support for non-sequence iterables such as generators is deprecated as of NumPy 1.16 and will raise an error in the future.\n",
            "  vectors = vstack(self.word_vec(word, use_norm=True) for word in used_words).astype(REAL)\n"
          ]
        },
        {
          "data": {
            "text/plain": [
              "'cereal'"
            ]
          },
          "execution_count": 8,
          "metadata": {},
          "output_type": "execute_result"
        }
      ],
      "source": [
        "google_model.doesnt_match(\"breakfast cereal dinner lunch\".split())"
      ]
    },
    {
      "cell_type": "code",
      "execution_count": null,
      "id": "dcfedb5c",
      "metadata": {
        "id": "dcfedb5c",
        "outputId": "4e6abb27-2215-4db8-a39f-f1deb2aa513b"
      },
      "outputs": [
        {
          "data": {
            "text/plain": [
              "0.7664012230995352"
            ]
          },
          "execution_count": 9,
          "metadata": {},
          "output_type": "execute_result"
        }
      ],
      "source": [
        "google_model.similarity('woman', 'man')"
      ]
    },
    {
      "cell_type": "code",
      "execution_count": null,
      "id": "03f3664b",
      "metadata": {
        "id": "03f3664b"
      },
      "outputs": [],
      "source": [
        "import warnings\n",
        "warnings.filterwarnings('ignore')\n",
        "import pandas as pd\n",
        "import numpy as np\n",
        "import matplotlib\n",
        "import matplotlib.pyplot as plt\n",
        "import string\n",
        "import nltk\n",
        "from nltk.corpus import stopwords\n",
        "from nltk.text import TextCollection\n",
        "from nltk.collocations import BigramCollocationFinder\n",
        "from nltk.metrics.association import BigramAssocMeasures\n",
        "from pprint import pprint\n",
        "import re\n",
        "from collections import Counter\n",
        "label_size = 16\n",
        "plt.rcParams['xtick.labelsize'] = label_size\n",
        "plt.rcParams['ytick.labelsize'] = label_size"
      ]
    },
    {
      "cell_type": "code",
      "execution_count": null,
      "id": "d2bd7acd",
      "metadata": {
        "id": "d2bd7acd"
      },
      "outputs": [],
      "source": [
        "sampleText = \"Natural language processing (NLP) is a subfield of linguistics, computer science, and artificial intelligence. It is concerned with the interactions between computers and human language. In particular how to program computers to process and analyze large amounts of natural language data. The goal is a computer capable of understanding the contents of documents, including the contextual nuances of the language within them. The technology can then accurately extract information and insights contained in the documents as well as categorize and organize the documents themselves.\""
      ]
    },
    {
      "cell_type": "code",
      "execution_count": null,
      "id": "dc65c365",
      "metadata": {
        "id": "dc65c365",
        "outputId": "8c5cd812-8e1d-446d-be9c-e9a2f153e6dc"
      },
      "outputs": [
        {
          "name": "stdout",
          "output_type": "stream",
          "text": [
            "['Natural language processing (NLP) is a subfield of linguistics, computer science, and artificial intelligence.', 'It is concerned with the interactions between computers and human language.', 'In particular how to program computers to process and analyze large amounts of natural language data.', 'The goal is a computer capable of understanding the contents of documents, including the contextual nuances of the language within them.', 'The technology can then accurately extract information and insights contained in the documents as well as categorize and organize the documents themselves.']\n"
          ]
        }
      ],
      "source": [
        "sentences = nltk.sent_tokenize(sampleText, 'english')\n",
        "print(sentences)"
      ]
    },
    {
      "cell_type": "markdown",
      "id": "fb0a647f",
      "metadata": {
        "id": "fb0a647f"
      },
      "source": [
        "### Prepare data for word2vec\n",
        "gensim’s word2vec expects a sequence of sentences as its input. Each sentence a list of words (utf8 strings.\n",
        "\n",
        "https://radimrehurek.com/gensim/models/word2vec.html#gensim.models.word2vec.Word2Vec"
      ]
    },
    {
      "cell_type": "code",
      "execution_count": null,
      "id": "0bc29d1a",
      "metadata": {
        "id": "0bc29d1a",
        "outputId": "2aee5574-abe1-4e3e-b7ad-b136a1461f95"
      },
      "outputs": [
        {
          "name": "stdout",
          "output_type": "stream",
          "text": [
            "[['Natural', 'language', 'processing', 'NLP', 'is', 'a', 'subfield', 'of', 'linguistics', 'computer', 'science', 'and', 'artificial', 'intelligence'], ['It', 'is', 'concerned', 'with', 'the', 'interactions', 'between', 'computers', 'and', 'human', 'language'], ['In', 'particular', 'how', 'to', 'program', 'computers', 'to', 'process', 'and', 'analyze', 'large', 'amounts', 'of', 'natural', 'language', 'data'], ['The', 'goal', 'is', 'a', 'computer', 'capable', 'of', 'understanding', 'the', 'contents', 'of', 'documents', 'including', 'the', 'contextual', 'nuances', 'of', 'the', 'language', 'within', 'them'], ['The', 'technology', 'can', 'then', 'accurately', 'extract', 'information', 'and', 'insights', 'contained', 'in', 'the', 'documents', 'as', 'well', 'as', 'categorize', 'and', 'organize', 'the', 'documents', 'themselves']]\n"
          ]
        }
      ],
      "source": [
        "from nltk.tokenize import RegexpTokenizer\n",
        "sentences_tokenized = []\n",
        "tokenizer = RegexpTokenizer(r'\\w+')\n",
        "for sentence in sentences:\n",
        "    word_tokens = tokenizer.tokenize(sentence)\n",
        "    sentences_tokenized.append(word_tokens)\n",
        "print(sentences_tokenized)"
      ]
    },
    {
      "cell_type": "code",
      "execution_count": null,
      "id": "2577e040",
      "metadata": {
        "id": "2577e040",
        "outputId": "cc346667-1c5b-4c60-edfa-a7b29630ab08"
      },
      "outputs": [
        {
          "data": {
            "image/png": "[encoded data removed]",
            "text/plain": [
              "<Figure size 432x288 with 1 Axes>"
            ]
          },
          "metadata": {
            "needs_background": "light"
          },
          "output_type": "display_data"
        }
      ],
      "source": [
        "from gensim.models import Word2Vec\n",
        "from sklearn.decomposition import PCA\n",
        "# define training data\n",
        "\n",
        "# train model\n",
        "model = Word2Vec(sentences_tokenized, min_count=1) # min_count: pruning the internal dictionary.\n",
        "#model.save('model')\n",
        "#new_model = gensim.models.Word2Vec.load('mymodel')\n",
        "\n",
        "# fit a 2d PCA model to the vectors\n",
        "X = model[model.wv.vocab] # The trained word vectors are stored in a KeyedVectors instance, as model.wv\n",
        "pca = PCA(n_components=2)\n",
        "result = pca.fit_transform(X)\n",
        "# create a scatter plot of the projection\n",
        "plt.scatter(result[:, 0], result[:, 1])\n",
        "words = list(model.wv.vocab)\n",
        "\n",
        "for i, word in enumerate(words):\n",
        "    plt.annotate(word, xy=(result[i, 0], result[i, 1]))\n",
        "plt.show()"
      ]
    },
    {
      "cell_type": "markdown",
      "id": "cdc01ebf",
      "metadata": {
        "id": "cdc01ebf"
      },
      "source": [
        "Along with the paper and code for word2vec, Google also published a pre-trained word2vec model on the Word2Vec Google Code Project.\n",
        "\n",
        "A pre-trained model is nothing more than a file containing tokens and their associated word vectors. The pre-trained Google word2vec model was trained on Google news data (about 100 billion words); it contains 3 million words and phrases and was fit using 300-dimensional word vectors."
      ]
    },
    {
      "cell_type": "code",
      "execution_count": null,
      "id": "e93eecc4",
      "metadata": {
        "id": "e93eecc4",
        "outputId": "e0b0d2e0-8b09-4ee9-cb21-c16c70cdc3ba"
      },
      "outputs": [
        {
          "name": "stdout",
          "output_type": "stream",
          "text": [
            "[('the', 0.250369131565094), ('technology', 0.21184013783931732), ('of', 0.18897578120231628), ('between', 0.17093327641487122), ('The', 0.14598652720451355), ('human', 0.14592790603637695), ('language', 0.1402280628681183), ('categorize', 0.13187864422798157), ('process', 0.12257368117570877), ('amounts', 0.10224154591560364)]\n"
          ]
        }
      ],
      "source": [
        "vector = model['subfield']  # get numpy vector of a word\n",
        "sims = model.most_similar('subfield', topn=10)  # get other similar words\n",
        "print(sims)"
      ]
    },
    {
      "cell_type": "code",
      "execution_count": null,
      "id": "4dd85832",
      "metadata": {
        "id": "4dd85832"
      },
      "outputs": [],
      "source": []
    }
  ],
  "metadata": {
    "kernelspec": {
      "display_name": "Python 3 (ipykernel)",
      "language": "python",
      "name": "python3"
    },
    "language_info": {
      "codemirror_mode": {
        "name": "ipython",
        "version": 3
      },
      "file_extension": ".py",
      "mimetype": "text/x-python",
      "name": "python",
      "nbconvert_exporter": "python",
      "pygments_lexer": "ipython3",
      "version": "3.9.12"
    },
    "colab": {
      "provenance": []
    }
  },
  "nbformat": 4,
  "nbformat_minor": 5
}