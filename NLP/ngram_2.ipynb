{
  "cells": [
    {
      "cell_type": "markdown",
      "metadata": {
        "id": "ysAddh6mNng6"
      },
      "source": [
        "# Session 2: N-grams Language Models"
      ]
    },
    {
      "cell_type": "markdown",
      "metadata": {
        "_uuid": "65559326e76d2b7841244e1dd6ea448671411b95",
        "id": "NdGboXHLNng8"
      },
      "source": [
        " n-grams are used to generate language models to predict which word comes next given a history of words.\n",
        "\n",
        "We'll use the `lm` module in `nltk` to see of how non-neural language modelling is done.\n",
        "\n",
        "(**Source:** The content in this notebook is largely based on [language model tutorial in NLTK documentation by Ilia Kurenkov](https://github.com/nltk/nltk/blob/develop/nltk/lm/__init__.py))"
      ]
    },
    {
      "cell_type": "code",
      "execution_count": null,
      "metadata": {
        "id": "m4WUBEv4Nng8",
        "outputId": "5bcdf8b6-35ae-46cb-c57b-04dcc5bd7954"
      },
      "outputs": [
        {
          "name": "stdout",
          "output_type": "stream",
          "text": [
            "Requirement already satisfied: dill in /Users/afillatre/opt/anaconda3/lib/python3.9/site-packages (0.3.6)\r\n"
          ]
        }
      ],
      "source": [
        "!pip install dill"
      ]
    },
    {
      "cell_type": "code",
      "execution_count": null,
      "metadata": {
        "_uuid": "1b213fb0dd5534ce82d6f1c716e9695ba5cf9758",
        "id": "HfQIISVlNng9"
      },
      "outputs": [],
      "source": [
        "from nltk.util import pad_sequence\n",
        "from nltk.util import bigrams\n",
        "from nltk.util import ngrams\n",
        "from nltk.util import everygrams\n",
        "from nltk.lm.preprocessing import pad_both_ends\n",
        "from nltk.lm.preprocessing import flatten"
      ]
    },
    {
      "cell_type": "markdown",
      "metadata": {
        "_uuid": "800f7632b6a834d36b95211a912b390fcb9dc11b",
        "id": "aiGE4_4LNng-"
      },
      "source": [
        "To train a bigram model, we need to turn this text into bigrams. Here's what the first sentence of our text would look like if we use the `ngrams` function from NLTK for this."
      ]
    },
    {
      "cell_type": "markdown",
      "metadata": {
        "_uuid": "5bab7d656c474d945669e6a86bf4beec3a44189e",
        "id": "5RGgBfH4Nng-"
      },
      "source": [
        "In most cases we want to use the same text as the source for both vocabulary and ngram counts.\n",
        "\n",
        "Now that we understand what this means for our preprocessing, we can simply import a function that does everything for us."
      ]
    },
    {
      "cell_type": "code",
      "execution_count": null,
      "metadata": {
        "_uuid": "147ccdd961ac97492ee9f0eadf3dfce7325c6790",
        "id": "cDtGB_euNng-"
      },
      "outputs": [],
      "source": [
        "from nltk.lm.preprocessing import padded_everygram_pipeline\n",
        "train, vocab = padded_everygram_pipeline(2, text)"
      ]
    },
    {
      "cell_type": "markdown",
      "metadata": {
        "_uuid": "b1b15504f2fb4487deec19de1c5ca786e49a42d6",
        "id": "V5f33LgENng_"
      },
      "source": [
        "So as to avoid re-creating the text in memory, both `train` and `vocab` are lazy iterators. They are evaluated on demand at training time.\n",
        "\n",
        "For the sake of understanding the output of `padded_everygram_pipeline`, we \"materialize\" the lazy iterators by casting them into a list."
      ]
    },
    {
      "cell_type": "code",
      "execution_count": null,
      "metadata": {
        "_uuid": "aa18a8a4a700926c30488c94cf519d8900de8ddf",
        "id": "D18Ha-LhNng_",
        "outputId": "2389be58-fd4e-45e6-91e4-202220ee7bd9"
      },
      "outputs": [
        {
          "name": "stdout",
          "output_type": "stream",
          "text": [
            "[('<s>',), ('<s>', 'a'), ('a',), ('a', 'b'), ('b',), ('b', 'c'), ('c',), ('c', '</s>'), ('</s>',)]\n",
            "\n",
            "[('<s>',), ('<s>', 'a'), ('a',), ('a', 'c'), ('c',), ('c', 'd'), ('d',), ('d', 'c'), ('c',), ('c', 'e'), ('e',), ('e', 'f'), ('f',), ('f', '</s>'), ('</s>',)]\n",
            "\n",
            "#############\n"
          ]
        },
        {
          "data": {
            "text/plain": [
              "['<s>', 'a', 'b', 'c', '</s>', '<s>', 'a', 'c', 'd', 'c', 'e', 'f', '</s>']"
            ]
          },
          "execution_count": 65,
          "metadata": {},
          "output_type": "execute_result"
        }
      ],
      "source": [
        "training_ngrams, padded_sentences = padded_everygram_pipeline(2, text)\n",
        "for ngramlize_sent in training_ngrams:\n",
        "    print(list(ngramlize_sent))\n",
        "    print()\n",
        "print('#############')\n",
        "list(padded_sentences)"
      ]
    },
    {
      "cell_type": "markdown",
      "metadata": {
        "_uuid": "4638a871a58694a77473a590728ebf25047cd6eb",
        "id": "QjObd08CNng_"
      },
      "source": [
        "## Lets get some real data and tokenize it"
      ]
    },
    {
      "cell_type": "code",
      "execution_count": null,
      "metadata": {
        "_uuid": "c679084566e711286d861a622e21ca5c04db7bee",
        "id": "fx40IQ0-NnhA"
      },
      "outputs": [],
      "source": [
        "try: # Use the default NLTK tokenizer.\n",
        "    from nltk import word_tokenize, sent_tokenize\n",
        "    # Testing whether it works.\n",
        "    # Sometimes it doesn't work on some machines because of setup issues.\n",
        "    word_tokenize(sent_tokenize(\"This is a foobar sentence. Yes it is.\")[0])\n",
        "except: # Use a naive sentence tokenizer and toktok.\n",
        "    import re\n",
        "    from nltk.tokenize import ToktokTokenizer\n",
        "    # See https://stackoverflow.com/a/25736515/610569\n",
        "    sent_tokenize = lambda x: re.split(r'(?<=[^A-Z].[.?]) +(?=[A-Z])', x)\n",
        "    # Use the toktok tokenizer that requires no dependencies.\n",
        "    toktok = ToktokTokenizer()\n",
        "    word_tokenize = word_tokenize = toktok.tokenize"
      ]
    },
    {
      "cell_type": "code",
      "execution_count": null,
      "metadata": {
        "_uuid": "9bb181f26fb777464b7d4e6d08beac724864cefe",
        "id": "kMfF1Bx1NnhA"
      },
      "outputs": [],
      "source": [
        "import os\n",
        "import requests\n",
        "import io #codecs\n",
        "\n",
        "\n",
        "# Text version of https://kilgarriff.co.uk/Publications/2005-K-lineer.pdf\n",
        "if os.path.isfile('language-never-random.txt'):\n",
        "    with io.open('language-never-random.txt', encoding='utf8') as fin:\n",
        "        text = fin.read()\n",
        "else:\n",
        "    url = \"https://gist.githubusercontent.com/alvations/53b01e4076573fea47c6057120bb017a/raw/b01ff96a5f76848450e648f35da6497ca9454e4a/language-never-random.txt\"\n",
        "    text = requests.get(url).content.decode('utf8')\n",
        "    with io.open('language-never-random.txt', 'w', encoding='utf8') as fout:\n",
        "        fout.write(text)"
      ]
    },
    {
      "cell_type": "code",
      "execution_count": null,
      "metadata": {
        "id": "vU7Hk884NnhA",
        "outputId": "4704cedc-2499-442c-ad50-69193b98c346"
      },
      "outputs": [
        {
          "name": "stdout",
          "output_type": "stream",
          "text": [
            "                       Language is never, ever, ever, random\n",
            "\n",
            "                                                               ADAM KILGARRIFF\n",
            "\n",
            "\n",
            "\n",
            "\n",
            "Abstract\n",
            "Language users never choose words randomly, and language is essentially\n",
            "non-random. Statistical hypothesis testing uses a null hypothesis, which\n",
            "posits randomness. Hence, when we look at linguistic phenomena in cor-\n",
            "pora, the null hypothesis will never be true. Moreover, where there is enough\n",
            "data, we shall (almost) always be able to establish that it is not true. In\n",
            "corpus studies, we frequently do have enough data, so the fact that a rela-\n",
            "tion between two phenomena is demonstrably non-random, does not sup-\n",
            "port the inference that it is not arbitrary. We present experimental evidence\n",
            "of how arbitrary associations between word frequencies and corpora are\n",
            "systematically non-random. We review literature in which hypothesis test-\n",
            "ing has been used, and show how it has often led to unhelpful or mislead-\n",
            "ing results.\n",
            "Keywords: 쎲쎲쎲\n",
            "\n",
            "1. Introduction\n",
            "Any two phenomena might or might not be related. The range of pos-\n",
            "sibilities is that the association is Random, Arbitrary, Motivated or Pre-\n",
            "dictable (R, A, M, P). The bulk of linguistic questions concern the dis-\n",
            "tinction between A and M. A linguistic account of a phenomenon gen-\n",
            "erally gives us reason to view the relation between, for example, a verb’s\n",
            "syntax and its semantics, as motivated rather than arbitrary. However,\n",
            "it is not in general possible to model the A-M distinction mathematically.\n",
            "The distinction that can be modeled mathematically is between R and\n",
            "not-R, that is, between random, or uncorrelated, pairs and pairs where\n",
            "there is some correlation, be it arbitrary, motivated or predictable.1 The\n",
            "mechanism here is hypothesis-testing. A null hypothesis, H0 is con-\n",
            "structed to model the situation in which there is no correlation between\n",
            "\n",
            "Corpus Linguistics and Linguistic Theory 1⫺2 (2005), 263⫺275     1613-7027/05/0001⫺0263\n",
            "                                                                     쑕 Walter de Gruyter\n",
            "\f",
            "264    A. Kilgarriff\n",
            "\n",
            "the two phenomena. As the mathematics of the random is well under-\n",
            "stood, we can compute the likelihood of the null hypothesis given the\n",
            "data. If the likelihood is low, we reject H0.\n",
            "   The problem for empirical linguistics is that language is not random,\n",
            "so the null hypothesis is never true. Language is not random because we\n",
            "speak or write with purposes. We do not, indeed, without computational\n",
            "help are not capable of, producing words or sounds or sentences or\n",
            "documents randomly. We do not always have enough data to reject the\n",
            "null hypothesis, but that is a distinct issue: wherever there is enough\n",
            "data, it is rejected. Using language corpora, we are frequently in the\n",
            "fortunate position of having very large quantities of data at our disposal.\n",
            "Then, even where pairs of corpora are set up to be linguistically identical,\n",
            "the null hypothesis is resoundingly defeated. In section 4, we present an\n",
            "experiment demonstrating this counterintuitive effect.\n",
            "   There are a number of papers in the empirical linguistics literature\n",
            "where researchers seemed to be testing whether an association was lin-\n",
            "guistically salient, or used the confidence with which H0 could be re-\n",
            "jected as a measure of salience, whereas in fact they were merely testing\n",
            "whether they had enough data to reject H0 with confidence. Some such\n",
            "cases are reviewed in section 5. Hypothesis testing has been widely used\n",
            "in the acquisition of subcategorization frames from corpora and this\n",
            "literature is considered in some detail. Alternatives to inappropriate hy-\n",
            "pothesis-testing are presented.\n",
            "   Before proceeding, may I clarify that this paper is in no way critical\n",
            "of using probability models, all of which are based on assumptions of\n",
            "randomness, in empirical linguistics in general. Probability models have\n",
            "been responsible for a large share of progress in the field in the last\n",
            "decade and a half. The randomness assumptions are always untrue, but\n",
            "that does not preclude them from frequently being useful. Making false\n",
            "assumptions is often an ingenious way to proceed; the problem arises\n",
            "where the literal falsity of the assumption is overlooked, and inappropri-\n",
            "ate inferences are drawn.\n",
            "\n",
            "2. The arbitrary and the random\n",
            "In common parlance, random and arbitrary are synonyms, with diction-\n",
            "aries giving near-identical definitions: LDOCE (1995) defines random as\n",
            "  happening or chosen without any definite plan, or pattern\n",
            "and arbitrary as\n",
            "  1 decided or arranged without any reason or plan, often unfairly … 2\n",
            "  happening or decided by chance rather than a plan\n",
            "\f",
            "                              Language is never, ever, ever, random     265\n",
            "\n",
            "   Superficially, randomness, as defined here, is what the technical sense\n",
            "of random captures and makes explicit. The technical sense is defined in\n",
            "terms of statistical independence. First, we formalize the framework:\n",
            "\n",
            "  For a population of events, the first phenomenon holds where x is\n",
            "  true of the event, the second holds where y is true of the event.\n",
            "\n",
            "   Now, the relation between the phenomena is random iff the prob-\n",
            "ability of x, for that subset of events where y does hold, is identical to\n",
            "its probability for the subset where y does not hold, that is\n",
            "\n",
            "  P (x|y) ⫽ P (x|ÿ y)\n",
            "\n",
            "   The relation is symmetric: P (x|y) ⫽ P (x|ÿ y) entails P (y|x) ⫽\n",
            "P (y|ÿ x). Hereafter I use ‘random’ for the technical meaning and ‘arbi-\n",
            "trary’ for the non-technical one.\n",
            "   Arbitrary events are very rarely random, and random events are very\n",
            "rarely arbitrary. It takes considerable ingenuity and sophisticated mathe-\n",
            "matics to produce a pseudo-random sequence algorithmically, and true\n",
            "randomness is not possible at all. Events happening “without any defi-\n",
            "nite plan, aim or pattern” are, by definition, arbitrary, but are vanish-\n",
            "ingly unlikely to be random. Outside the sub-atomic realm, natural\n",
            "events are very rarely random.\n",
            "   Consider, for example, cat food purchases and shoe-polish purchases\n",
            "within the space of all UK supermarket-shopping events: does the fact\n",
            "that cat food was bought predict (positively or negatively) whether shoe\n",
            "polish was bought in the same shopping trip? There is no obvious reason\n",
            "why it should, and we can happily declare the relation arbitrary. But\n",
            "perhaps either cat food or shoe-polish are more (or less) often bought in\n",
            "hot (or cold) weather, or on Saturday nights, or Sunday mornings, or\n",
            "Monday lunchtimes, or by richer (or poorer) people, or by men (or\n",
            "women), or by people in (or out of) towns… There is an unlimited\n",
            "number of hypotheses connecting the two (positively or negatively); if\n",
            "just one of these has any validity, however weak, then the null hypothesis\n",
            "is false.\n",
            "   At this point, you may question why the null hypothesis is ever a\n",
            "useful construct.\n",
            "   For a wide range of tasks, although H0 is false, there is only enough\n",
            "evidence to establish the fact if there is a strong relation between the two\n",
            "phenomena. Thus, given evidence from 1,000 shopping trips, it is un-\n",
            "likely we shall be able to reject H0 concerning cat food and shoe-polish,\n",
            "whereas we shall be able to reject it concerning strawberry-buying and\n",
            "cream-buying. Given further evidence, perhaps from 1,000,000 shopping\n",
            "\f",
            "266    A. Kilgarriff\n",
            "\n",
            "trips, we shall also be able to reject the null hypothesis regarding nappy2-\n",
            "buying and beer-sixpack-buying. (The correlation, the most newsworthy\n",
            "product of large-scale data mining by supermarkets, was widely reported\n",
            "in the British media.) But still not for catf ood and shoe-polish. But,\n",
            "given 1,000,000,000 events, we shall in all likelihood also be able to reject\n",
            "it for cat food and shoe-polish.\n",
            "   Whether or not we can reject the null hypothesis (with eg. 95 % confi-\n",
            "dence) is a function of sample size and level of correlation. Where sample\n",
            "size is held constant (and is not enormous), whether or not we can reject\n",
            "H0 can be seen as a way of providing statistical support for distinguish-\n",
            "ing the arbitrary and the motivated. This is a role that hypothesis testing\n",
            "plays across the social sciences. However where the sample size varies\n",
            "by an order of magnitude, or where it is enormous, it is wrong to identify\n",
            "the accept-H0/reject-H0 distinction with the arbitrary/motivated one.\n",
            "   The uneasy relationship between hypothesis-testing, and quantity of\n",
            "data, is familiar to statisticians though frequently overlooked or mis-\n",
            "understood by users of statistics (Carver 1993, Stubbs 1995, Brandstätter\n",
            "1999). One statistics textbook warns thus:\n",
            "  None of the null hypotheses we have considered with respect to good-\n",
            "  ness of fit can be exactly true, so if we increase the sample size (and\n",
            "  hence the value of χ2) we would ultimately reach the point when all\n",
            "  null hypotheses would be rejected. All that the χ2 test can tell us, then,\n",
            "  is that the sample size is too small to reject the null hypothesis! (Owen\n",
            "  and Jones, 1977, p 359).\n",
            "The issue is particularly salient for empirical linguistics because, firstly,\n",
            "we have access to extremely large sample sizes, and secondly, the distri-\n",
            "bution of many language phenomena is Zipfian. The has 6,000,000 oc-\n",
            "currences in the BNC whereas cat food (spelled as one word or two) has\n",
            "66. For a vast number of third phenomena X, the null hypothesis that\n",
            "the and X are uncorrelated will be rejected, whereas the null hypothesis\n",
            "that cat food and X are uncorrelated will not. It would be wrong to draw\n",
            "inferences about what was arbitrary, what motivated.\n",
            "\n",
            "3. Objections to Maximum Likelihood Estimates (MLEs)\n",
            "Church and Hanks (1990) inaugurated the research area of lexical statis-\n",
            "tics with their presentation of Mutual Information (I), a measure of how\n",
            "closely associated two phenomena are. It can be applied to finding words\n",
            "which occur together to a noteworthy degree, or to finding words which\n",
            "are particularly associated with one corpus as against another, or for\n",
            "various other purposes.3 They define the mutual information between\n",
            "two words x and y as\n",
            "\f",
            "                                  Language is never, ever, ever, random   267\n",
            "\n",
            "  I (x; y) ⫽ log 2   冉    p (xandy)\n",
            "                         p (x) · p(y)\n",
            "                                        冊\n",
            "and then estimate probabilities directly from frequencies, that is using\n",
            "the ‘Maximum Likelihood Estimate’ (MLE) of f (x)/N for p (x), f (y)/N\n",
            "for p (y), f (x-and-y)/N for p (x-and-y), thereby giving\n",
            "\n",
            "\n",
            "  I (x; y) ⫽ log 2   冉   N · f (x ⫺ and ⫺ y)\n",
            "                              f (x) · f (y)\n",
            "                                               冊\n",
            "   Dunning (1993) presents a critique of the use of Mutual Information\n",
            "in empirical linguistics. His objection has been confused with the critique\n",
            "of hypothesis-testing I make here so I mention his work in order to\n",
            "clarify that the two objections, while both valid, are different in nature\n",
            "and independent.\n",
            "   Dunning demonstrates how MLEs fare poorly when estimating the\n",
            "probabilities of rare events. The problem is essentially this: if a word (or\n",
            "bigram, or trigram, or character-sequence etc.) occurs just once or twice\n",
            "in a corpus of N words (bigrams, etc.), then the simplest way to estimate\n",
            "the probability is the NILE, which gives 1/N or 2/N. However this does\n",
            "not factor in the arbitrariness of the word occurring at all in the corpus:\n",
            "in a corpus ten times the size, there would be roughly ten times the\n",
            "number of singletons and doubletons in the corpus, most of which would\n",
            "not have occurred at all in the original corpus. Thus some of the prob-\n",
            "ability mass contributing to the 1/N or 2/N MLEs should have been put\n",
            "aside for the words (bigrams etc.) which did not occur at all in this\n",
            "particular corpus. Viewed another way, the 1/N and 2/N should be dis-\n",
            "counted to allow for the fact that one or two occurrences are very low\n",
            "bases of evidence on which to assert probabilities.\n",
            "   There are various ways in which the discounting can be done, for\n",
            "example the Good-Turing method (Good 1953), usefully applied to em-\n",
            "pirical linguistics in Gale and Sampson (1995), Bod (1995). Dunning\n",
            "presents and advocates the use of the log-likelihood statistic, which, like\n",
            "the χ2 statistic, is χ2-distributed,4 but more accurately estimates probabil-\n",
            "ities where counts are low. The log-likelihood statistic still only estimates\n",
            "probabilities: since Dunning’s work, Pedersen (1996) has shown how\n",
            "Fisher’s Exact Method can be applied to the problem, to identify the\n",
            "exact probability of a word (bigram etc.) rather than estimating it at all.\n",
            "   Thus Dunning’s objection to Mutual Information is that it fails to\n",
            "accurately represent probabilities when counts are low (where ‘low’ is\n",
            "generally taken as less than five). If the probabilities can be accurately\n",
            "represented, Dunning’s anxieties will be set at ease.\n",
            "\f",
            "268    A. Kilgarriff\n",
            "\n",
            "   The critique in this paper does not concern whether probabilities are\n",
            "accurately calculated. Rather, the objection is that the probability model,\n",
            "with its assumptions of randomness, is inappropriate, particularly where\n",
            "counts are high (eg, thousands or more).\n",
            "   Where the task is to determine whether there is an interesting associa-\n",
            "tion between two rare events, Dunning’s concern must be heeded. Where\n",
            "it is to determine whether there is an interesting association between\n",
            "high-frequency events, the concerns of this paper must be.\n",
            "\n",
            "\n",
            "4. Experiment\n",
            "Given enough data, H0 is almost always rejected however arbitrary the\n",
            "data, as the author discovered when grappling with the following data.\n",
            "   Two corpora were set up to be indisputably of the same language type,\n",
            "with only arbitrary differences between them: each was a random subset\n",
            "of the written part of the British National Corpus (BNC). The sampling\n",
            "was as follows: all texts shorter than 20,000 words were excluded. This\n",
            "left 820 texts. Half the texts were then randomly assigned to each of\n",
            "two corpora.\n",
            "   The null hypotheses were (1) that the two subcorpora, viewed as col-\n",
            "lections of words rather than documents, were random samples drawn\n",
            "from the same population; and consequently, (2) that the deviation in\n",
            "frequency of occurrence for each individual word between the two sub-\n",
            "corpora was explicable as random fluctuation. The HO were tested using\n",
            "the χ2-test: is χ2\n",
            "\n",
            "  Σ(|O ⫺ E | ⫺ 0.5) 2 /E\n",
            "\n",
            "greater than the critical value? The sum is over the four cells of the\n",
            "contingency table\n",
            "\n",
            "                Corpus 1    Corpus 2\n",
            "\n",
            "word w          a           b\n",
            "not word w      c           d\n",
            "\n",
            "\n",
            "  If we randomly assign words (as opposed to documents) to the one\n",
            "corpus or the other, then we have a straightforward random distribution,\n",
            "with the value of the χ2-statistic equal to or greater than the 99.5 %\n",
            "confidence threshold of 7.88 for just 0.5 % of words. The average value\n",
            "of the error term,\n",
            "\f",
            "                                Language is never, ever, ever, random          269\n",
            "\n",
            "  (|O ⫺ E| ⫺ 0.5) 2 /E\n",
            "\n",
            "is then 0.5.5 The hypothesis can, therefore, be couched as: are the error\n",
            "terms systematically greater than 0.5? If they are, we should be wary of\n",
            "attributing high error terms to significant differences between text types,\n",
            "since we also obtain many high error terms where there are no significant\n",
            "differences between text types.\n",
            "   Frequency lists for word-POS pairs for each subcorpus were gener-\n",
            "ated. For each word occurring in either subcorpus, the error term which\n",
            "would have contributed to a χ2 calculation was determined. As Table 4\n",
            "shows, average values for the error term are far greater than 0.5, and\n",
            "tend to increase as word frequency increases.\n",
            "   As the averages indicate, the error term is very often greater than 0.5\n",
            "* 7.88 ⫽ 3.94, the relevant critical value of the chi-square statistic. For\n",
            "very many words, including most common words, the null hypothesis is\n",
            "resoundingly defeated (as is the null hypthesis regarding the two subc-\n",
            "orpora as wholes).\n",
            "   There is no a priori reason to expect words to behave as if they had\n",
            "been selected at random, and indeed they do not. It is in the nature of\n",
            "\n",
            "\n",
            "\n",
            "\n",
            "Table 1. Comparing two same-genre corpora using χ2\n",
            "Class                       First item in class                  Mean error term\n",
            "(Words in freq. order)                                           for items in class\n",
            "                            word                  POS\n",
            "\n",
            "First 10 items              the                   DET            18.76\n",
            "Next 10 items               for                   PRP            17.45\n",
            "Next 20 items               not                   XX             14.39\n",
            "Next 40 items               have                  VHB            10.71\n",
            "Next 80 items               also                  AVO             7.03\n",
            "Next 160 items              know                  VVI             6.40\n",
            "Next 320 items              six                   CRD             5.30\n",
            "Next 640 items              finally               AV0             6.71\n",
            "Next 1280 items             plants                NN2             6.05\n",
            "Next 2560 items             pocket                NN1             5.82\n",
            "Next 5120 items             represent             VVB             4.53\n",
            "Next 10240 items            peking                NP0             3.07\n",
            "Next 20480 items            fondly                AV0             1.87\n",
            "Next 40960 items            chandelier            NN1             1.15\n",
            "Table note. Mean error term is far greater than 0.5, and increases with frequency.\n",
            "POS tags are drawn from the CLAWS-5 tagset as used in the BNC (see http:/info.ox.\n",
            "ac.uk/bnc)\n",
            "\f",
            "270     A. Kilgarriff\n",
            "\n",
            "language that any two collections of texts, covering a wide range of\n",
            "registers (and comprising, say, less than a thousand samples of over a\n",
            "thousand words each) will show such differences. While it might seem\n",
            "plausible that oddities would in some way balance out to give a popula-\n",
            "tion that was indistinguishable from one where the individual words (as\n",
            "opposed to the texts) had been randomly selected, this turns out not to\n",
            "be the case.\n",
            "   The key word in the last paragraph is ‘indistinguishable’. In hypothesis\n",
            "testing, the objective is generally to see if the population can be distin-\n",
            "guished from one that has been randomly generated ⫺ or, in our case,\n",
            "to see if the two populations are distinguishable from two populations\n",
            "which have been randomly generated on the basis of the frequencies in\n",
            "the joint corpus. Since words in a text are not random, we know that\n",
            "our corpora are not randomly generated, and the hypothesis test con-\n",
            "firms the fact.\n",
            "\n",
            "\n",
            "5.    Re-analysis of previous work\n",
            "\n",
            "5.1. Brown and LOB\n",
            "\n",
            "Hofland and Johansson (1982) wanted to find words which were signifi-\n",
            "cantly different in their frequencies between British and American Eng-\n",
            "lish, as represented in the Brown corpus for American English and LOB\n",
            "corpus for British. For each word, they tested the null hypothesis that\n",
            "the difference in frequency between the two corpora could be explained\n",
            "as random variation, with the samples being random samples from the\n",
            "same source, and in their frequency lists, they mark words where the\n",
            "null hypothesis was defeated (at a 95, 99 or 99.9 % confidence level).\n",
            "Looking at these lists suggests that virtually all common words are\n",
            "markedly different in their levels of use between the US and the UK:\n",
            "they are all marked as such. By contrast, most of the rarer marked words\n",
            "are words we know to be American or British, or to refer to items that\n",
            "are more common or more salient in the US or the UK.\n",
            "   As the argument of the previous section explains, most of the marked\n",
            "high-frequency words are marked simply as a consequence of the essen-\n",
            "tially non-random nature of language. It would not be surprising for a\n",
            "high-frequency word marked as British English in these lists to be\n",
            "marked as American English in a repeat of the experiment using new\n",
            "data.\n",
            "   Similar strategies are used by, and a similar critique is applicable to,\n",
            "Leech and Fallon (1992) (again, for comparing LOB and Brown), Ray-\n",
            "\f",
            "                              Language is never, ever, ever, random    271\n",
            "\n",
            "son, Leech, and Hodges (1997) for comparing the conversation of dif-\n",
            "ferent social groups, and Rayson and Garside (2000) for contrasting the\n",
            "language of a specialist genre with ‘general language’, as represented by\n",
            "the British National Corpus.\n",
            "\n",
            "\n",
            "5.2 Subcategorization frame (SCF) learning\n",
            "Hypothesis-testing has been used in a number of papers concerning the\n",
            "automatic acquisition of subcategorization frames (SCFs) for verbs from\n",
            "corpora. The problem is this. Dictionaries, even where they do present\n",
            "explicit and accurate SCFs for verbs, are not complete: they do not pre-\n",
            "sent all the frames for each verb. This gives rise to many parsing errors.\n",
            "Researchers including Brent (1993), Briscoe and Carroll (1997) and Kor-\n",
            "honen (2000) have developed methods for SCF acquisition. However,\n",
            "their methods are inevitably noisy, suffering, for example, from just those\n",
            "parser errors that the whole process is designed to address, and they do\n",
            "not wish to accept any SCF for which there is any evidence as a true\n",
            "SCF for the verb. They wish to filter out those SCFs where the evidence\n",
            "is not strong enough. Brent and Briscoe and Carroll used hypothesis\n",
            "testing to this end. However, problems are noted:\n",
            "\n",
            "  Further evaluation of the results ...reveals that the filtering phase is\n",
            "  the weak link in the system … The performance of the filter for classes\n",
            "  with less than 10 exemplars is around chance, and a simple heuristic\n",
            "  of accepting all classes with more then 10 exemplars would have pro-\n",
            "  duced broadly similar results for these verbs (Briscoe and Carroll\n",
            "  1997: 360⫺36).\n",
            "\n",
            "Korhonen, Correll, and McCarthy (2000) explore the issue in detail.\n",
            "Using Briscoe and Carroll’s SCF acquisition system, they explore the\n",
            "impact of four different strategies for filtering out noise:\n",
            "\n",
            "Baseline    No filter\n",
            "BHT         binomial hypothesis test: reject the SCF if Ho is not defeated6\n",
            "LLR         hypothesis test using log-likelihood ratio: reject the SCF if\n",
            "            Ho is not defeated\n",
            "MLE         threshold based on the relative frequency (which is also the\n",
            "            maximum likelihood estimate (MLE) of the probability) of\n",
            "            the verb occurring in the SCF given the verb, with the thresh-\n",
            "            old determined empirically\n",
            "\f",
            "272    A. Kilgarriff\n",
            "\n",
            "  They observe\n",
            "\n",
            "  MLE thresholding produced better results than the two statistical tests\n",
            "  used. Precision improved considerably, showing that the classes occur-\n",
            "  ring in the data with the highest frequency are often correct … MLE\n",
            "  is not adept at finding low frequency SCFs … (Korhonen, Correll,\n",
            "  and McCarthy 2000: 202)\n",
            "\n",
            "This concurs with the theoretical argument above. Hypothesis tests are\n",
            "inappropriate for the task, because the relations between verb and SCF\n",
            "will never be random and the hypothesis test will merely reject the null\n",
            "hypothesis wherever there is enough data, in a manner not closely corre-\n",
            "lated with whether the SCF-verb link is motivated. Where there is\n",
            "enough data, then the relationship between verb and SCF is easy to see\n",
            "so even a simple threshold method will identify the verb’s SCFs. Where\n",
            "data is very sparse, no method works well.\n",
            "   Korhonen (2000) extends this line of work, exploring thresholding\n",
            "methods where a more accurate estimate of the probability is obtained\n",
            "by using data from semantically similar but higher frequency verbs. She\n",
            "achieves modest improvements over the baseline which uses Korhonen,\n",
            "Correll and McCarthy’s MLE, particularly when combining the fre-\n",
            "quencies of the target verb and its semantic neighbour using a linear\n",
            "method based on the quantity of evidence available for each.\n",
            "   The problem is not one of distinguishing random and non-random\n",
            "relationships, but of sparseness of data. Where the data is not sparse,\n",
            "the difference between arbitrary and motivated connections is evident in\n",
            "greatly differing relative frequencies. This makes the moral of the story\n",
            "plain. Data is abundant. A modest-frequency verb like devastate occurs\n",
            "(Google tells us) in well over a million web pages. With just 1 % of them,\n",
            "devastate becomes one of the verbs for which we have plenty of data,\n",
            "and crude thresholding methods will distinguish associated SCFs from\n",
            "noise. It is possible that parsing errors are systematic and thus that the\n",
            "same errors occur very often in very large corpora although our experi-\n",
            "ence from looking at large corpora in the Word Sketch Engine (Kilgarriff\n",
            "et al 2004) suggests not. Harvesting the web (or other huge corpora) is\n",
            "the way to build an accurate SCF lexicon.7\n",
            "\n",
            "6. Conclusion\n",
            "Language is non-random and hence, when we look at linguistic phenom-\n",
            "ena in corpora, the null hypothesis will never be true. Moreover, where\n",
            "there is enough data, we shall (almost) always be able to establish that\n",
            "it is not true. In corpus studies, we frequently do have enough data, so\n",
            "\f",
            "                                    Language is never, ever, ever, random               273\n",
            "\n",
            "the fact that a relation between two phenomena is demonstrably non-\n",
            "random, does not support the inference that it is not arbitrary. Hypoth-\n",
            "esis testing is rarely useful for distinguishing associated from non-associ-\n",
            "ated pairs of phenomena in large corpora. Where used, it has often led\n",
            "to unhelpful or misleading results.\n",
            "   Hypothesis testing has been used to reach conclusions, where the diffi-\n",
            "culty in reaching a conclusion is caused by sparsity of data. But language\n",
            "data, in this age of information glut, is available in vast quantities. A\n",
            "better strategy will generally be to use more data Then the difference\n",
            "between the motivated and the arbitrary will be evident without the use\n",
            "of compromised hypothesis testing. As Lord Rutherford put it: “If your\n",
            "experiment needs statistics, you ought to have done a better experi-\n",
            "ment.”\n",
            "Received July 2004                                            Lexical Computing Ltd.\n",
            "Revisions received May 2005\n",
            "Final acceptance May 2005\n",
            "\n",
            "Notes\n",
            "  * This work was supported by the UK EPSRC, under grants GR/K18931 (SEAL)\n",
            "    and GR/M54971 (WASPS).\n",
            " 1. In this paper we do not consider the distinction between the predictable and the\n",
            "    ‘merely’ motivated.\n",
            " 2. Diapers, in American English\n",
            " 3. There is some confusion over names. In information theory, Mutual Information\n",
            "    is usually defined over a whole population of words, rather than being specified\n",
            "    for a particular word-pair, as here, and the definition incorporates information\n",
            "    from all cells of the contingency table. Church and Hanks only use a subset of that\n",
            "    information. Church-and-Hanks Mutual Information has been called Pointwise\n",
            "    Mutual Information. see Manning and Schütze (1999: 66 ff.) for a fuller discus-\n",
            "    sion. Here we use Church and Hanks’s definition and name.\n",
            " 4. This sentence will be confusing to non-mathematicians. The χ2 statistic is a statis-\n",
            "    tic, that is, it can be calculated from a data sample using actual numbers. The χ2\n",
            "    distribution is a theoretical construct. If a sufficiently large number of chi-square\n",
            "    statistics are calculated, all from true random samples of the same population,\n",
            "    then this population of χ2 statistics will, provably, fit a χ2 distribution. This is\n",
            "    also true for other statistics: that is, if a sufficiently large number of log-likelihood\n",
            "    statistics are calculated, all from true random samples of the same population,\n",
            "    then this population of log-likelihood statistics will, provably, fit a χ2 distribution.\n",
            "    Some texts call the statistic χ2 rather than χ2 to distinguish it more clearly from\n",
            "    the distribution, but this practice is in the minority and is not adopted here.\n",
            " 5. See appendix\n",
            " 6. The model used was a sophisticated one incorporating evidence about type fre-\n",
            "    quencies of verbs from the ANLT lexicon: see Briscoe and Carroll (1997) or Kor-\n",
            "    honen, Correll, and McCarthy (2000) for details.\n",
            " 7. See Kilgarriff and Grefenstette (2003) and papers therein. The web is a vast re-\n",
            "    source for many languages. See also Banko and Brill (2001) for the benefits of\n",
            "    large data over sophisticated mathematics.\n",
            "\f",
            "274     A. Kilgarriff\n",
            "\n",
            "Appendix\n",
            "The average value of the error term is 0.5. We explain this as follows.\n",
            "  If we do in fact have a random distribution, then by the definition of\n",
            "the χ2 distribution, the sum of the cells in the contingency table is 1:\n",
            "\n",
            "  a⫹b⫹c⫹d⫽1\n",
            "\n",
            "Each of these error terms is calculated as\n",
            "\n",
            "  (O ⫺ E ⫺ 0.5) 2/E\n",
            "\n",
            "In our situation, there are very large datasets and the phenomenon of\n",
            "interest only accounts for a very small proportion of cases. The fre-\n",
            "quency of not word w is very high. Thus the expected values, E, for not\n",
            "word w to be used when calculating c and d for the contingency table are\n",
            "very high. As we divide by very large E, c and d are vanishingly small, so\n",
            "\n",
            "  a⫹b⫹c⫹d⫽1\n",
            "\n",
            "reduces to\n",
            "\n",
            "  a⫹b⫽1\n",
            "\n",
            "Since we have set the situation up symmetrically, a and b are the same\n",
            "size, so each will be, on average, 0.5.\n",
            "\n",
            "References\n",
            "Banko, Michele and Eric Brill\n",
            "  2001       Scaling to very very large corpora for natural language disambiguation.\n",
            "             Proceedings of the 39th Annual Meeting of the Association for Computa-\n",
            "             tional Linguistics and the 10th Conference of the European Chapter of the\n",
            "             Association for Computational Linguistics.\n",
            "Bod, Rens\n",
            "  1995       Enriching linguistics with statistics: performance models of natural lan-\n",
            "             guage. Ph.D. dissertation, University of Amsterdam.\n",
            "Brandstätter, E.\n",
            "  1999       Confidence intervals as an alternative to significance testing. Methods of\n",
            "             Psychological Research Outline 4(2), 33⫺46.\n",
            "Brent, Michael R.\n",
            "  1993       From grammar to lexicon: unsupervised learning of lexical syntax. Com-\n",
            "             putational Linguistics 19(2), 243⫺262.\n",
            "Briscoe, Ted and John Carroll\n",
            "  1997       Automatic extraction of subcategorization from corpora. Proceedings of\n",
            "             the Fifth Conference on Applied Natural Language Processing, 356⫺363.\n",
            "\f",
            "                                    Language is never, ever, ever, random            275\n",
            "Carver, R. P.\n",
            "  1993        The case against statistical significance testing, revisited. Journal of Ex-\n",
            "              perimental Education 61, 287⫺292.\n",
            "Church, Kenneth and Patrick Hanks\n",
            "  1990        Word association norms, mutual information and lexicography. Compu-\n",
            "              tational Linguistics 16(1), 22⫺29.\n",
            "Dunning, Ted\n",
            "  1993        Accurate methods for the statistics of surprise and coincidence. Compu-\n",
            "              tational Linguistics 19(1), 61⫺74.\n",
            "Gale, William and Geoffrey Sampson\n",
            "  1995        Good-Turing frequency estimation without tears. Journal of Quantitative\n",
            "              Linguistics 2(3),\n",
            "Good, I. J.\n",
            "  1953        The population frequencies of species and the estimation of population\n",
            "              parameters. Biometrika 40, 237⫺264.\n",
            "Grefenstette, Gregory and Julien Nioche\n",
            "  2000        Estimation of English and non-English language use on the www. In\n",
            "              Proceedings of RIAO (Recherche d’Informations Assiste´ e par Ordinateur),\n",
            "              237⫺246.\n",
            "Hofland, Knud and Stig Johanson (Eds.)\n",
            "  1982        Word Frequencies in British and American English. Bergen: The Norwe-\n",
            "              gian Computing Centre for the Humanities.\n",
            "Korhonen, Anna\n",
            "  2000        Using semantically motivated estimates to help subcategorization\n",
            "              acquisition. Proceedings of the Joint Conference on Empirical Methods in\n",
            "              NLP and Very Large Corpora, 216⫺223.\n",
            "Korhonen, Anna, Genevieve Gorrell, and Diana McCarthy\n",
            "  2000        Statistical filtering and subcategorization frame acquisition. Proceedings\n",
            "              of the Joint Conference on Empirical Methods in NLP and Very Large\n",
            "              Corpora, 199⫺206.\n",
            "LDOCE\n",
            "  1995        Longman Dictionary of Contemporary English, 3rd Edition. Ed. Della\n",
            "              Summers. Harlow: Longman.\n",
            "Leech, Geoffrey and Roger Fallon\n",
            "  1992        Computer corpora — what do they tell us about culture? ICAME Journal\n",
            "              16, 29⫺50.\n",
            "Manning, Christopher and Hinrich Schütze\n",
            "  1999        Foundations of Statistical Natural Language Processing. Cambridge, MA:\n",
            "              MIT Press.\n",
            "Owen, Frank and Ronald Jones\n",
            "  1977        Statistics. Polytech Publishers.\n",
            "Pedersen, Ted\n",
            "  1996        Fishing for exactness. Proceedings of the Conference of the South-Central\n",
            "              SAS Users Group, 188⫺200.\n",
            "Rayson, Paul and Roger Garside\n",
            "  2000        Comparing corpora using frequency profiling. Proceedings of the Work-\n",
            "              shop on Comparing Corpora, 38th ACL, 1⫺6.\n",
            "Rayson, Paul, Geoffrey Leech, and Mary Hodges\n",
            "  1997        Social differentiation in the use of English vocabulary: some analysis of\n",
            "              the conversational component of the British National Corpus. Interna-\n",
            "              tional Journal of Corpus Linguistics 2(1), 133⫺152.\n",
            "Stubbs, Michael\n",
            "  1995        Collocations and semantic profiles: On the cause of the trouble with\n",
            "              quantitative studies. Functions of Language 2(1), 23⫺55.\n",
            "\f",
            "\n"
          ]
        }
      ],
      "source": [
        "print(text)"
      ]
    },
    {
      "cell_type": "code",
      "execution_count": null,
      "metadata": {
        "_uuid": "af4102fcbf643e09319ca6394c175ca64082fd19",
        "id": "elfbHNOWNnhA"
      },
      "outputs": [],
      "source": [
        "# Tokenize the text.\n",
        "tokenized_text = [list(map(str.lower, word_tokenize(sent)))\n",
        "                  for sent in sent_tokenize(text)]"
      ]
    },
    {
      "cell_type": "code",
      "execution_count": null,
      "metadata": {
        "_uuid": "9daa634f65b63882f7192a9489fba198970f3771",
        "id": "vLsAeiW0NnhA",
        "outputId": "e7876f2c-acdc-46e5-95ca-4925cde5e570"
      },
      "outputs": [
        {
          "data": {
            "text/plain": [
              "['language',\n",
              " 'is',\n",
              " 'never',\n",
              " ',',\n",
              " 'ever',\n",
              " ',',\n",
              " 'ever',\n",
              " ',',\n",
              " 'random',\n",
              " 'adam',\n",
              " 'kilgarriff',\n",
              " 'abstract',\n",
              " 'language',\n",
              " 'users',\n",
              " 'never',\n",
              " 'choose',\n",
              " 'words',\n",
              " 'randomly',\n",
              " ',',\n",
              " 'and',\n",
              " 'language',\n",
              " 'is',\n",
              " 'essentially',\n",
              " 'non-random',\n",
              " '.']"
            ]
          },
          "execution_count": 70,
          "metadata": {},
          "output_type": "execute_result"
        }
      ],
      "source": [
        "tokenized_text[0]"
      ]
    },
    {
      "cell_type": "code",
      "execution_count": null,
      "metadata": {
        "_uuid": "91c93337cfea53b0c15a6e8617395dab872fb140",
        "id": "LsYcgh0jNnhB",
        "outputId": "5f2715f7-aa3b-42c0-9076-33d4b75a8858"
      },
      "outputs": [
        {
          "name": "stdout",
          "output_type": "stream",
          "text": [
            "                       Language is never, ever, ever, random\n",
            "\n",
            "                                                               ADAM KILGARRIFF\n",
            "\n",
            "\n",
            "\n",
            "\n",
            "Abstract\n",
            "Language users never choose words randomly, and language is essentially\n",
            "non-random. Statistical hypothesis testing uses a null hypothesis, which\n",
            "posits randomness. Hence, when we look at linguistic phenomena in cor-\n",
            "pora, the null hypothesis will never be true. Moreover, where there is enough\n",
            "data, we shall (almost) always be able to establish \n"
          ]
        }
      ],
      "source": [
        "print(text[:500])"
      ]
    },
    {
      "cell_type": "code",
      "execution_count": null,
      "metadata": {
        "_uuid": "3eef00b8b1a95043e1c8bdd6912ae22060198e5c",
        "id": "qmI8BqpnNnhB"
      },
      "outputs": [],
      "source": [
        "# Preprocess the tokenized text for 3-grams language modelling\n",
        "n = 3\n",
        "train_data, padded_sents = padded_everygram_pipeline(n, tokenized_text)"
      ]
    },
    {
      "cell_type": "code",
      "execution_count": null,
      "metadata": {
        "id": "iGXg1zBxNnhB",
        "outputId": "aa5c5581-2457-466e-f847-de8ed4d0a960"
      },
      "outputs": [
        {
          "data": {
            "text/plain": [
              "<generator object padded_everygram_pipeline.<locals>.<genexpr> at 0x7fd91118a040>"
            ]
          },
          "execution_count": 73,
          "metadata": {},
          "output_type": "execute_result"
        }
      ],
      "source": [
        "train_data"
      ]
    },
    {
      "cell_type": "markdown",
      "metadata": {
        "_uuid": "32c5ad89e3e61b143e940d50a0d0ee602dadfe3f",
        "id": "PhGBbw0qNnhB"
      },
      "source": [
        "# Training an N-gram Model"
      ]
    },
    {
      "cell_type": "markdown",
      "metadata": {
        "_uuid": "ff1ff506e3a14df8283cb93b0a45f86862d3e3c7",
        "id": "2aWKn15hNnhB"
      },
      "source": [
        "Having prepared our data we are ready to start training a model. As a simple example, let us train a Maximum Likelihood Estimator (MLE).\n",
        "\n",
        "We only need to specify the highest ngram order to instantiate it."
      ]
    },
    {
      "cell_type": "code",
      "execution_count": null,
      "metadata": {
        "_uuid": "2635458b0f3fed618bfae6a0705ccb11555bfb0b",
        "id": "FqjfqKeQNnhB"
      },
      "outputs": [],
      "source": [
        "from nltk.lm import MLE\n",
        "model = MLE(n) # Lets train a 3-grams model, previously we set n=3"
      ]
    },
    {
      "cell_type": "markdown",
      "metadata": {
        "_uuid": "69cdd0e5babaf059a7b9bc87dc0a6e261cef6cb2",
        "id": "docEMxw0NnhB"
      },
      "source": [
        "Initializing the MLE model, creates an empty vocabulary"
      ]
    },
    {
      "cell_type": "code",
      "execution_count": null,
      "metadata": {
        "_uuid": "93b95f89f020585dabfbcd6c41273c823a91e882",
        "id": "-hyOLzXyNnhB",
        "outputId": "10fca76c-6331-4cc0-d834-852d672745e7"
      },
      "outputs": [
        {
          "data": {
            "text/plain": [
              "0"
            ]
          },
          "execution_count": 75,
          "metadata": {},
          "output_type": "execute_result"
        }
      ],
      "source": [
        "len(model.vocab)"
      ]
    },
    {
      "cell_type": "markdown",
      "metadata": {
        "_uuid": "fb567e332a0089c86e388a8c93f32d1a31737a29",
        "id": "TkMbK66QNnhB"
      },
      "source": [
        "... which gets filled as we fit the model."
      ]
    },
    {
      "cell_type": "code",
      "execution_count": null,
      "metadata": {
        "_uuid": "a31ecc7f6df30a42df9ed6a79039b50f734299cf",
        "id": "kW2_njUiNnhB",
        "outputId": "fc56f0b4-157a-4296-fd55-c33063e87cb9"
      },
      "outputs": [
        {
          "name": "stdout",
          "output_type": "stream",
          "text": [
            "<Vocabulary with cutoff=1 unk_label='<UNK>' and 1391 items>\n"
          ]
        }
      ],
      "source": [
        "model.fit(train_data, padded_sents)\n",
        "print(model.vocab)"
      ]
    },
    {
      "cell_type": "code",
      "execution_count": null,
      "metadata": {
        "_uuid": "6fd7e68c2cdacbe1901fd3b8c05c440706d19100",
        "id": "1AVP8yLrNnhC",
        "outputId": "f4a8dcfd-572b-4a82-a60e-d3c5e1bd2ec9"
      },
      "outputs": [
        {
          "data": {
            "text/plain": [
              "1391"
            ]
          },
          "execution_count": 77,
          "metadata": {},
          "output_type": "execute_result"
        }
      ],
      "source": [
        "len(model.vocab)"
      ]
    },
    {
      "cell_type": "markdown",
      "metadata": {
        "_uuid": "74622c58a2df2ac08c8b0c79644d1f87f4014f44",
        "id": "yKNOMHgcNnhC"
      },
      "source": [
        "The vocabulary helps us handle words that have not occurred during training."
      ]
    },
    {
      "cell_type": "code",
      "execution_count": null,
      "metadata": {
        "_uuid": "e5670e34f9d1950f6a1515d57db18092d39484f2",
        "id": "xVz7M_sRNnhC",
        "outputId": "d749a2a3-9a3f-499a-e523-e4c17cf45e53"
      },
      "outputs": [
        {
          "name": "stdout",
          "output_type": "stream",
          "text": [
            "('language', 'is', 'never', ',', 'ever', ',', 'ever', ',', 'random', 'adam', 'kilgarriff', 'abstract', 'language', 'users', 'never', 'choose', 'words', 'randomly', ',', 'and', 'language', 'is', 'essentially', 'non-random', '.')\n"
          ]
        }
      ],
      "source": [
        "print(model.vocab.lookup(tokenized_text[0]))"
      ]
    },
    {
      "cell_type": "code",
      "execution_count": null,
      "metadata": {
        "_uuid": "cfec70768e8976073dda05f702f3f210a33dc1c3",
        "id": "9qaK8L81NnhC",
        "outputId": "cd3b99fd-d824-4a24-a99d-6b946547085d"
      },
      "outputs": [
        {
          "name": "stdout",
          "output_type": "stream",
          "text": [
            "('language', 'is', 'never', 'random', '<UNK>', '.')\n"
          ]
        }
      ],
      "source": [
        "# If we lookup the vocab on unseen sentences not from the training data,\n",
        "# it automatically replace words not in the vocabulary with `<UNK>`.\n",
        "print(model.vocab.lookup('language is never random lah .'.split()))"
      ]
    },
    {
      "cell_type": "markdown",
      "metadata": {
        "_uuid": "83a71e4b25b53795dedce91c1a5686b7e22279e0",
        "id": "k_oiJkoxNnhD"
      },
      "source": [
        "Moreover, in some cases we want to ignore words that we did see during training but that didn't occur frequently enough, to provide us useful information.\n",
        "\n",
        "We can tell the vocabulary to ignore such words using the `unk_cutoff` argument for the vocabulary lookup, To find out how that works: [`nltk.lm.vocabulary.Vocabulary` class](https://github.com/nltk/nltk/blob/develop/nltk/lm/vocabulary.py)"
      ]
    },
    {
      "cell_type": "markdown",
      "metadata": {
        "_uuid": "b0310a2f3c7d9e90f4574b44838336ca1e4ef2ef",
        "id": "k42VxyqsNnhD"
      },
      "source": [
        "**Note:** For more sophisticated ngram models: [these objects from `nltk.lm.models`](https://github.com/nltk/nltk/blob/develop/nltk/lm/models.py):\n",
        "\n",
        " - `Lidstone`: Provides Lidstone-smoothed scores.\n",
        " - `Laplace`: Implements Laplace (add one) smoothing.\n",
        " - `InterpolatedLanguageModel`: Logic common to all interpolated language models (Chen & Goodman 1995).\n",
        " - `WittenBellInterpolated`: Interpolated version of Witten-Bell smoothing."
      ]
    },
    {
      "cell_type": "markdown",
      "metadata": {
        "_uuid": "af5a0851a2f8707ea2e172681342ed3ecd872328",
        "id": "vXqiA6QNNnhD"
      },
      "source": [
        "# Using the N-gram Language Model"
      ]
    },
    {
      "cell_type": "markdown",
      "metadata": {
        "_uuid": "d098fd4686bcdc0ab9aa72dbbd4b62a17ee2c332",
        "id": "VOMs3AAVNnhD"
      },
      "source": [
        "When it comes to ngram models the training boils down to counting up the ngrams from the training corpus."
      ]
    },
    {
      "cell_type": "code",
      "execution_count": null,
      "metadata": {
        "_uuid": "bfc60d61539269298390044c0d3415bfd28e2b1e",
        "id": "WoCpmxRANnhD",
        "outputId": "2eabe5e8-853e-4567-8c7c-7db9db1c83dc"
      },
      "outputs": [
        {
          "name": "stdout",
          "output_type": "stream",
          "text": [
            "<NgramCounter with 3 ngram orders and 19611 ngrams>\n"
          ]
        }
      ],
      "source": [
        "print(model.counts)"
      ]
    },
    {
      "cell_type": "markdown",
      "metadata": {
        "_uuid": "e9b8cac68de80aee9c7cf7b7f2faf2b199ad27cc",
        "id": "4U1GMx4WNnhD"
      },
      "source": [
        "This provides a convenient interface to access counts for unigrams..."
      ]
    },
    {
      "cell_type": "code",
      "execution_count": null,
      "metadata": {
        "_uuid": "90f4611580c41118747a42cfac4c9d729f02523f",
        "id": "jk8cSxXRNnhE",
        "outputId": "d5f04a69-0233-4998-db37-654cb83cb371"
      },
      "outputs": [
        {
          "data": {
            "text/plain": [
              "25"
            ]
          },
          "execution_count": 81,
          "metadata": {},
          "output_type": "execute_result"
        }
      ],
      "source": [
        "model.counts['language'] # i.e. Count('language')"
      ]
    },
    {
      "cell_type": "markdown",
      "metadata": {
        "_uuid": "ccdf1bf83ba16f0a43f04eb96ca224a968cc81d2",
        "id": "DN9thzesNnhE"
      },
      "source": [
        "...and bigrams for the phrase \"language is\""
      ]
    },
    {
      "cell_type": "code",
      "execution_count": null,
      "metadata": {
        "_uuid": "3ba55a83d7c052d1f14923c4046a5f6c86d72c8c",
        "id": "K0RAdrtENnhE",
        "outputId": "849decf0-cb7f-4d60-ecd4-0dda22db1c86"
      },
      "outputs": [
        {
          "data": {
            "text/plain": [
              "11"
            ]
          },
          "execution_count": 82,
          "metadata": {},
          "output_type": "execute_result"
        }
      ],
      "source": [
        "model.counts[['language']]['is'] # i.e. Count('is'|'language')"
      ]
    },
    {
      "cell_type": "markdown",
      "metadata": {
        "_uuid": "88bceda0a01e9f2642dd30a6b341c24a606720b9",
        "id": "1fVeSs4PNnhE"
      },
      "source": [
        "... and trigrams for the phrase \"language is never\""
      ]
    },
    {
      "cell_type": "code",
      "execution_count": null,
      "metadata": {
        "_uuid": "813e30e1fb153002cfb020d430def2510bf43bbc",
        "id": "7QCQVOGbNnhE",
        "outputId": "3b48c38d-3a24-496e-af12-2ebaaee20429"
      },
      "outputs": [
        {
          "data": {
            "text/plain": [
              "7"
            ]
          },
          "execution_count": 83,
          "metadata": {},
          "output_type": "execute_result"
        }
      ],
      "source": [
        "model.counts[['language', 'is']]['never'] # i.e. Count('never'|'language is')"
      ]
    },
    {
      "cell_type": "markdown",
      "metadata": {
        "_uuid": "2c4338d351cfc3cd785673ad9581ecab161b24c6",
        "id": "gA__HxSfNnhE"
      },
      "source": [
        "And so on. However, the real purpose of training a language model is to have it score how probable words are in certain contexts.\n",
        "\n",
        "This being MLE, the model returns the item's relative frequency as its score."
      ]
    },
    {
      "cell_type": "code",
      "execution_count": null,
      "metadata": {
        "_uuid": "051ef5a06c004a8e8ddb6168ca318bc8c0c9abf4",
        "id": "EtfrS26hNnhE",
        "outputId": "2224e135-9f0b-4482-8ea1-f5e3ccc23480"
      },
      "outputs": [
        {
          "data": {
            "text/plain": [
              "0.003691671588895452"
            ]
          },
          "execution_count": 84,
          "metadata": {},
          "output_type": "execute_result"
        }
      ],
      "source": [
        "model.score('language') # P('language')"
      ]
    },
    {
      "cell_type": "code",
      "execution_count": null,
      "metadata": {
        "_uuid": "ab3d48919b8f074342e624a1da441621829a4dbd",
        "id": "j9yLlb5bNnhF",
        "outputId": "37e1c516-35b0-44a9-fcab-e468c08dcc37"
      },
      "outputs": [
        {
          "data": {
            "text/plain": [
              "0.44"
            ]
          },
          "execution_count": 85,
          "metadata": {},
          "output_type": "execute_result"
        }
      ],
      "source": [
        "model.score('is', 'language'.split())  # P('is'|'language')"
      ]
    },
    {
      "cell_type": "code",
      "execution_count": null,
      "metadata": {
        "_uuid": "73955908d499f459e19c2cbfaec7d94c513acb91",
        "id": "75UBddPiNnhF",
        "outputId": "504baf8d-e8ba-4c0f-e6eb-60798b653371"
      },
      "outputs": [
        {
          "data": {
            "text/plain": [
              "0.6363636363636364"
            ]
          },
          "execution_count": 86,
          "metadata": {},
          "output_type": "execute_result"
        }
      ],
      "source": [
        "model.score('never', 'language is'.split())  # P('never'|'language is')"
      ]
    },
    {
      "cell_type": "markdown",
      "metadata": {
        "_uuid": "946dde75e8d5b8d8878271359b0d91926abeb199",
        "id": "wjiZIhp4NnhF"
      },
      "source": [
        "Items that are not seen during training are mapped to the vocabulary's \"unknown label\" token.  This is \"<UNK>\" by default.\n"
      ]
    },
    {
      "cell_type": "code",
      "execution_count": null,
      "metadata": {
        "_uuid": "44038e8cd8d078b734a6b1a803d0795517e2fa82",
        "id": "BMJ0u15qNnhF",
        "outputId": "3cf1ea81-1050-4eca-a421-b61854d25ec8"
      },
      "outputs": [
        {
          "data": {
            "text/plain": [
              "True"
            ]
          },
          "execution_count": 87,
          "metadata": {},
          "output_type": "execute_result"
        }
      ],
      "source": [
        "model.score(\"<UNK>\") == model.score(\"lah\")"
      ]
    },
    {
      "cell_type": "code",
      "execution_count": null,
      "metadata": {
        "_uuid": "f2f170a0bbca4b33b5eb1a55a55f0e1b1b18a634",
        "id": "nU3G9oaFNnhF",
        "outputId": "2521eb9d-de68-4809-8550-e6b5fbd5da4d"
      },
      "outputs": [
        {
          "data": {
            "text/plain": [
              "True"
            ]
          },
          "execution_count": 88,
          "metadata": {},
          "output_type": "execute_result"
        }
      ],
      "source": [
        "model.score(\"<UNK>\") == model.score(\"leh\")"
      ]
    },
    {
      "cell_type": "code",
      "execution_count": null,
      "metadata": {
        "_uuid": "9107d1a7c27f30a449e9f370002a6406d5a1396d",
        "id": "0Gh0GRRTNnhF",
        "outputId": "b064366b-bdd6-4825-d890-4118e1dbf2b6"
      },
      "outputs": [
        {
          "data": {
            "text/plain": [
              "True"
            ]
          },
          "execution_count": 89,
          "metadata": {},
          "output_type": "execute_result"
        }
      ],
      "source": [
        "model.score(\"<UNK>\") == model.score(\"lor\")"
      ]
    },
    {
      "cell_type": "markdown",
      "metadata": {
        "_uuid": "1a9ad0be90c72ece6c2a1c00314ea60f41a00f81",
        "id": "Z8ay3nIZNnhG"
      },
      "source": [
        "To avoid underflow when working with many small score values it makes sense to take their logarithm.\n",
        "\n",
        "For convenience this can be done with the `logscore` method.\n"
      ]
    },
    {
      "cell_type": "code",
      "execution_count": null,
      "metadata": {
        "_uuid": "20ef81b7e161df3b9ab27236c33559713b3077ce",
        "id": "wtIXGoqbNnhG",
        "outputId": "5eda33f8-8796-4508-abc4-9c20deb0f0c2"
      },
      "outputs": [
        {
          "data": {
            "text/plain": [
              "-0.6520766965796932"
            ]
          },
          "execution_count": 90,
          "metadata": {},
          "output_type": "execute_result"
        }
      ],
      "source": [
        "model.logscore(\"never\", \"language is\".split())"
      ]
    },
    {
      "cell_type": "markdown",
      "metadata": {
        "_uuid": "18f9e0a8d0aba302532b8a84f342d1bf4d3e202a",
        "id": "oIH5BwATNnhG"
      },
      "source": [
        "# Generation using N-gram Language Model"
      ]
    },
    {
      "cell_type": "markdown",
      "metadata": {
        "_uuid": "f893159fe093aef484c07b37d922de4ac5727834",
        "id": "BgSYlQuYNnhG"
      },
      "source": [
        "One cool feature of ngram models is that they can be used to generate text."
      ]
    },
    {
      "cell_type": "code",
      "execution_count": null,
      "metadata": {
        "_uuid": "98989ec4bae592fc98332e759daf9e42bac4213e",
        "id": "r4NaJBQ2NnhG",
        "outputId": "9325b25a-64a2-4a44-8b97-a2288ce5bac8"
      },
      "outputs": [
        {
          "name": "stdout",
          "output_type": "stream",
          "text": [
            "['and', 'carroll', 'used', 'hypothesis', 'testing', 'has', 'been', 'used', ',', 'and', 'a', 'half', '.', '</s>', '</s>', '</s>', '</s>', '</s>', '</s>', '</s>']\n"
          ]
        }
      ],
      "source": [
        "print(model.generate(20, random_seed=7))"
      ]
    },
    {
      "cell_type": "markdown",
      "metadata": {
        "_uuid": "3b8d07eaf3afae978131573ae127fa0ec3f2e50d",
        "id": "wli8IHuhNnhH"
      },
      "source": [
        "We can do some cleaning to the generated tokens to make it human-like."
      ]
    },
    {
      "cell_type": "code",
      "execution_count": null,
      "metadata": {
        "_uuid": "73d0d5e0029e64876100e0f2e368b4835a99efcd",
        "id": "xh6CU8FPNnhI"
      },
      "outputs": [],
      "source": [
        "from nltk.tokenize.treebank import TreebankWordDetokenizer\n",
        "\n",
        "detokenize = TreebankWordDetokenizer().detokenize\n",
        "\n",
        "def generate_sent(model, num_words, random_seed=42):\n",
        "    \"\"\"\n",
        "    :param model: An ngram language model from `nltk.lm.model`.\n",
        "    :param num_words: Max no. of words to generate.\n",
        "    :param random_seed: Seed value for random.\n",
        "    \"\"\"\n",
        "    content = []\n",
        "    for token in model.generate(num_words, random_seed=random_seed):\n",
        "        if token == '<s>':\n",
        "            continue\n",
        "        if token == '</s>':\n",
        "            break\n",
        "        content.append(token)\n",
        "    return detokenize(content)"
      ]
    },
    {
      "cell_type": "code",
      "execution_count": null,
      "metadata": {
        "_uuid": "949378240cbc8247579b79946b113a3afd039b39",
        "id": "lgoH3ANINnhI",
        "outputId": "c6ddc23d-5c3d-48c8-965d-4723c653809a"
      },
      "outputs": [
        {
          "data": {
            "text/plain": [
              "'and carroll used hypothesis testing has been used, and a half.'"
            ]
          },
          "execution_count": 93,
          "metadata": {},
          "output_type": "execute_result"
        }
      ],
      "source": [
        "generate_sent(model, 20, random_seed=7)"
      ]
    },
    {
      "cell_type": "code",
      "execution_count": null,
      "metadata": {
        "_uuid": "9041c514e0458236132fe9b3c42ac2ce651beb92",
        "id": "Pkm8WFoJNnhI",
        "outputId": "c2917eae-5d22-4c2e-b554-192546f7819f"
      },
      "outputs": [
        {
          "name": "stdout",
          "output_type": "stream",
          "text": [
            "['the', 'scf-verb', 'link', 'is', 'motivated', '.', '</s>', '</s>', '</s>', '</s>', '</s>', '</s>', '</s>', '</s>', '</s>', '</s>', '</s>', '</s>', '</s>', '</s>', '</s>', '</s>', '</s>', '</s>', '</s>', '</s>', '</s>', '</s>']\n"
          ]
        }
      ],
      "source": [
        "print(model.generate(28, random_seed=0))"
      ]
    },
    {
      "cell_type": "code",
      "execution_count": null,
      "metadata": {
        "_uuid": "523e7c2373f6a4c4b6a542f1e82369fedb6cbd21",
        "id": "c6ugw87FNnhI",
        "outputId": "bd34523b-8234-4c53-b1c2-5b41c7b45123"
      },
      "outputs": [
        {
          "data": {
            "text/plain": [
              "'the scf-verb link is motivated.'"
            ]
          },
          "execution_count": 95,
          "metadata": {},
          "output_type": "execute_result"
        }
      ],
      "source": [
        "generate_sent(model, 28, random_seed=0)"
      ]
    },
    {
      "cell_type": "code",
      "execution_count": null,
      "metadata": {
        "_uuid": "bce2885bd22d0bb1f79c3861f10fde7df6714e40",
        "id": "vZr4lvv8NnhI",
        "outputId": "c966f696-add6-4e06-a54a-9fef5be157ca"
      },
      "outputs": [
        {
          "data": {
            "text/plain": [
              "'237⫺246.'"
            ]
          },
          "execution_count": 96,
          "metadata": {},
          "output_type": "execute_result"
        }
      ],
      "source": [
        "generate_sent(model, 20, random_seed=1)"
      ]
    },
    {
      "cell_type": "code",
      "execution_count": null,
      "metadata": {
        "_uuid": "90ddb0e7d0fb52bc77d08425331944c55ee0885e",
        "id": "73mkmz1iNnhI",
        "outputId": "09c3db5e-b7a1-4f85-98b7-46b0063aab60"
      },
      "outputs": [
        {
          "data": {
            "text/plain": [
              "'hypothesis is ever a useful construct.'"
            ]
          },
          "execution_count": 97,
          "metadata": {},
          "output_type": "execute_result"
        }
      ],
      "source": [
        "generate_sent(model, 20, random_seed=30)"
      ]
    },
    {
      "cell_type": "code",
      "execution_count": null,
      "metadata": {
        "_uuid": "ba9546c6800d9e0b0f0af4f0fd31a141af93b12f",
        "id": "UhpQtDNlNnhJ",
        "outputId": "d5f8b237-d486-4c1f-97f4-e95c40d05439"
      },
      "outputs": [
        {
          "data": {
            "text/plain": [
              "'more (or cold) weather, or on saturday nights, or by people in (or poorer)'"
            ]
          },
          "execution_count": 98,
          "metadata": {},
          "output_type": "execute_result"
        }
      ],
      "source": [
        "generate_sent(model, 20, random_seed=42)"
      ]
    },
    {
      "cell_type": "markdown",
      "metadata": {
        "id": "k7_NAKkZNnhJ"
      },
      "source": [
        "# Saving the model\n",
        "\n",
        "The native Python's pickle may not save the lambda functions in the  model, so we can use the `dill` library in place of pickle to save and load the language model.\n"
      ]
    },
    {
      "cell_type": "code",
      "execution_count": null,
      "metadata": {
        "id": "9BqpXbBGNnhJ"
      },
      "outputs": [],
      "source": [
        "import dill as pickle\n",
        "\n",
        "with open('kilgariff_ngram_model.pkl', 'wb') as fout:\n",
        "    pickle.dump(model, fout)"
      ]
    },
    {
      "cell_type": "code",
      "execution_count": null,
      "metadata": {
        "id": "axRIkwejNnhJ"
      },
      "outputs": [],
      "source": [
        "with open('kilgariff_ngram_model.pkl', 'rb') as fin:\n",
        "    model_loaded = pickle.load(fin)"
      ]
    },
    {
      "cell_type": "code",
      "execution_count": null,
      "metadata": {
        "id": "7gRB81BoNnhJ",
        "outputId": "3725c934-ca44-4fe0-dd64-5cf59af29085"
      },
      "outputs": [
        {
          "data": {
            "text/plain": [
              "'more (or cold) weather, or on saturday nights, or by people in (or poorer)'"
            ]
          },
          "execution_count": 101,
          "metadata": {},
          "output_type": "execute_result"
        }
      ],
      "source": [
        "generate_sent(model_loaded, 20, random_seed=42)"
      ]
    },
    {
      "cell_type": "markdown",
      "metadata": {
        "_uuid": "e4f13ed7359c87e397229104c1bcf18eb20603ad",
        "id": "L8lHqsz3NnhJ"
      },
      "source": [
        "# Generating with Donald Trump data\n",
        "\n",
        "\n",
        "**Dataset:** https://www.kaggle.com/kingburrito666/better-donald-trump-tweets#Donald-Tweets!.csv"
      ]
    },
    {
      "cell_type": "code",
      "execution_count": null,
      "metadata": {
        "id": "ayhpJW4pNnhK"
      },
      "outputs": [],
      "source": []
    },
    {
      "cell_type": "code",
      "execution_count": null,
      "metadata": {
        "id": "OS-LcFwfNnhK"
      },
      "outputs": [],
      "source": [
        "#!pip install opendatasets\n",
        "#import opendatasets as od\n",
        "#od.download(\"https://www.kaggle.com/kingburrito666/better-donald-trump-tweets#Donald-Tweets!.csv\")"
      ]
    },
    {
      "cell_type": "code",
      "execution_count": null,
      "metadata": {
        "_uuid": "caf5fea33f84e06c3cf613136ec33f80e774fc98",
        "id": "NKMFe6ilNnhK",
        "outputId": "1a3c55b3-8539-416c-c659-6cf3a1261888"
      },
      "outputs": [
        {
          "data": {
            "text/html": [
              "<div>\n",
              "<style scoped>\n",
              "    .dataframe tbody tr th:only-of-type {\n",
              "        vertical-align: middle;\n",
              "    }\n",
              "\n",
              "    .dataframe tbody tr th {\n",
              "        vertical-align: top;\n",
              "    }\n",
              "\n",
              "    .dataframe thead th {\n",
              "        text-align: right;\n",
              "    }\n",
              "</style>\n",
              "<table border=\"1\" class=\"dataframe\">\n",
              "  <thead>\n",
              "    <tr style=\"text-align: right;\">\n",
              "      <th></th>\n",
              "      <th>Date</th>\n",
              "      <th>Time</th>\n",
              "      <th>Tweet_Text</th>\n",
              "      <th>Type</th>\n",
              "      <th>Media_Type</th>\n",
              "      <th>Hashtags</th>\n",
              "      <th>Tweet_Id</th>\n",
              "      <th>Tweet_Url</th>\n",
              "      <th>twt_favourites_IS_THIS_LIKE_QUESTION_MARK</th>\n",
              "      <th>Retweets</th>\n",
              "      <th>Unnamed: 10</th>\n",
              "      <th>Unnamed: 11</th>\n",
              "    </tr>\n",
              "  </thead>\n",
              "  <tbody>\n",
              "    <tr>\n",
              "      <th>0</th>\n",
              "      <td>16-11-11</td>\n",
              "      <td>15:26:37</td>\n",
              "      <td>Today we express our deepest gratitude to all ...</td>\n",
              "      <td>text</td>\n",
              "      <td>photo</td>\n",
              "      <td>ThankAVet</td>\n",
              "      <td>7.970000e+17</td>\n",
              "      <td>https://twitter.com/realDonaldTrump/status/797...</td>\n",
              "      <td>127213</td>\n",
              "      <td>41112</td>\n",
              "      <td>NaN</td>\n",
              "      <td>NaN</td>\n",
              "    </tr>\n",
              "    <tr>\n",
              "      <th>1</th>\n",
              "      <td>16-11-11</td>\n",
              "      <td>13:33:35</td>\n",
              "      <td>Busy day planned in New York. Will soon be mak...</td>\n",
              "      <td>text</td>\n",
              "      <td>NaN</td>\n",
              "      <td>NaN</td>\n",
              "      <td>7.970000e+17</td>\n",
              "      <td>https://twitter.com/realDonaldTrump/status/797...</td>\n",
              "      <td>141527</td>\n",
              "      <td>28654</td>\n",
              "      <td>NaN</td>\n",
              "      <td>NaN</td>\n",
              "    </tr>\n",
              "    <tr>\n",
              "      <th>2</th>\n",
              "      <td>16-11-11</td>\n",
              "      <td>11:14:20</td>\n",
              "      <td>Love the fact that the small groups of protest...</td>\n",
              "      <td>text</td>\n",
              "      <td>NaN</td>\n",
              "      <td>NaN</td>\n",
              "      <td>7.970000e+17</td>\n",
              "      <td>https://twitter.com/realDonaldTrump/status/797...</td>\n",
              "      <td>183729</td>\n",
              "      <td>50039</td>\n",
              "      <td>NaN</td>\n",
              "      <td>NaN</td>\n",
              "    </tr>\n",
              "    <tr>\n",
              "      <th>3</th>\n",
              "      <td>16-11-11</td>\n",
              "      <td>2:19:44</td>\n",
              "      <td>Just had a very open and successful presidenti...</td>\n",
              "      <td>text</td>\n",
              "      <td>NaN</td>\n",
              "      <td>NaN</td>\n",
              "      <td>7.970000e+17</td>\n",
              "      <td>https://twitter.com/realDonaldTrump/status/796...</td>\n",
              "      <td>214001</td>\n",
              "      <td>67010</td>\n",
              "      <td>NaN</td>\n",
              "      <td>NaN</td>\n",
              "    </tr>\n",
              "    <tr>\n",
              "      <th>4</th>\n",
              "      <td>16-11-11</td>\n",
              "      <td>2:10:46</td>\n",
              "      <td>A fantastic day in D.C. Met with President Oba...</td>\n",
              "      <td>text</td>\n",
              "      <td>NaN</td>\n",
              "      <td>NaN</td>\n",
              "      <td>7.970000e+17</td>\n",
              "      <td>https://twitter.com/realDonaldTrump/status/796...</td>\n",
              "      <td>178499</td>\n",
              "      <td>36688</td>\n",
              "      <td>NaN</td>\n",
              "      <td>NaN</td>\n",
              "    </tr>\n",
              "  </tbody>\n",
              "</table>\n",
              "</div>"
            ],
            "text/plain": [
              "       Date      Time                                         Tweet_Text  \\\n",
              "0  16-11-11  15:26:37  Today we express our deepest gratitude to all ...   \n",
              "1  16-11-11  13:33:35  Busy day planned in New York. Will soon be mak...   \n",
              "2  16-11-11  11:14:20  Love the fact that the small groups of protest...   \n",
              "3  16-11-11   2:19:44  Just had a very open and successful presidenti...   \n",
              "4  16-11-11   2:10:46  A fantastic day in D.C. Met with President Oba...   \n",
              "\n",
              "   Type Media_Type   Hashtags      Tweet_Id  \\\n",
              "0  text      photo  ThankAVet  7.970000e+17   \n",
              "1  text        NaN        NaN  7.970000e+17   \n",
              "2  text        NaN        NaN  7.970000e+17   \n",
              "3  text        NaN        NaN  7.970000e+17   \n",
              "4  text        NaN        NaN  7.970000e+17   \n",
              "\n",
              "                                           Tweet_Url  \\\n",
              "0  https://twitter.com/realDonaldTrump/status/797...   \n",
              "1  https://twitter.com/realDonaldTrump/status/797...   \n",
              "2  https://twitter.com/realDonaldTrump/status/797...   \n",
              "3  https://twitter.com/realDonaldTrump/status/796...   \n",
              "4  https://twitter.com/realDonaldTrump/status/796...   \n",
              "\n",
              "   twt_favourites_IS_THIS_LIKE_QUESTION_MARK  Retweets  Unnamed: 10  \\\n",
              "0                                     127213     41112          NaN   \n",
              "1                                     141527     28654          NaN   \n",
              "2                                     183729     50039          NaN   \n",
              "3                                     214001     67010          NaN   \n",
              "4                                     178499     36688          NaN   \n",
              "\n",
              "   Unnamed: 11  \n",
              "0          NaN  \n",
              "1          NaN  \n",
              "2          NaN  \n",
              "3          NaN  \n",
              "4          NaN  "
            ]
          },
          "execution_count": 109,
          "metadata": {},
          "output_type": "execute_result"
        }
      ],
      "source": [
        "import pandas as pd\n",
        "df = pd.read_csv('Donald-Tweets!.csv')\n",
        "df.head()"
      ]
    },
    {
      "cell_type": "code",
      "execution_count": null,
      "metadata": {
        "_uuid": "a15d9d1a754ca357ae79e8390069b08b05320458",
        "id": "wYtvq2mWNnhK"
      },
      "outputs": [],
      "source": [
        "trump_corpus = list(df['Tweet_Text'].apply(word_tokenize))"
      ]
    },
    {
      "cell_type": "code",
      "execution_count": null,
      "metadata": {
        "_uuid": "8724b8724cc52b685205047bd1fda649545a6a24",
        "id": "sc5c_OJ9NnhK"
      },
      "outputs": [],
      "source": [
        "# Preprocess the tokenized text for 3-grams language modelling\n",
        "n = 3\n",
        "train_data, padded_sents = padded_everygram_pipeline(n, trump_corpus)"
      ]
    },
    {
      "cell_type": "code",
      "execution_count": null,
      "metadata": {
        "_uuid": "c5010b607062f6f2dd0ccf011bb9004e1e3dcee7",
        "id": "BVH-OPLENnhK"
      },
      "outputs": [],
      "source": [
        "from nltk.lm import MLE\n",
        "trump_model = MLE(n) # Lets train a 3-grams model, previously we set n=3\n",
        "trump_model.fit(train_data, padded_sents)"
      ]
    },
    {
      "cell_type": "code",
      "execution_count": null,
      "metadata": {
        "_uuid": "8036f1ae5e0e1438d1d2981026766cdacd4479aa",
        "id": "LkXPijysNnhK",
        "outputId": "f77ecf29-ad21-425e-fe66-fa140fd02be9"
      },
      "outputs": [
        {
          "data": {
            "text/plain": [
              "'call!'"
            ]
          },
          "execution_count": 113,
          "metadata": {},
          "output_type": "execute_result"
        }
      ],
      "source": [
        "generate_sent(trump_model, num_words=20, random_seed=42)"
      ]
    },
    {
      "cell_type": "code",
      "execution_count": null,
      "metadata": {
        "_uuid": "defe4e4899cb14300710eb0c7786a6f2e894455d",
        "id": "X55Vv49vNnhK",
        "outputId": "3dd993bd-6c4c-4079-e8b1-eaac164396a3"
      },
      "outputs": [
        {
          "data": {
            "text/plain": [
              "'picks it up! Democrats numbers are down big in'"
            ]
          },
          "execution_count": 114,
          "metadata": {},
          "output_type": "execute_result"
        }
      ],
      "source": [
        "generate_sent(trump_model, num_words=10, random_seed=0)"
      ]
    },
    {
      "cell_type": "code",
      "execution_count": null,
      "metadata": {
        "_uuid": "eba7934efa5a5e6b818e951c5daec9e9f621ca26",
        "id": "ruG52YdNNnhK",
        "outputId": "66f53a2f-7a45-4154-a2d4-bb08e8427687"
      },
      "outputs": [
        {
          "data": {
            "text/plain": [
              "'\"@ ajbruno14: @ realDonaldTrump beautiful family! Best #SNL with @ realDonaldTrump You are a total joke . No clue on immigration now because he REPLACED his LEGAL cellphone?'"
            ]
          },
          "execution_count": 115,
          "metadata": {},
          "output_type": "execute_result"
        }
      ],
      "source": [
        "generate_sent(trump_model, num_words=50, random_seed=10)"
      ]
    },
    {
      "cell_type": "code",
      "execution_count": null,
      "metadata": {
        "_uuid": "3ec48d8d44b2f57b16249e12b845f43f52faadca",
        "id": "4kJ_rNZzNnhL",
        "outputId": "26013553-a7ee-44e7-ef1f-89df0a7d3b8a"
      },
      "outputs": [
        {
          "name": "stdout",
          "output_type": "stream",
          "text": [
            "will MAKE AMERICA GREAT AGAIN! https: /_\n"
          ]
        }
      ],
      "source": [
        "print(generate_sent(trump_model, num_words=100, random_seed=52))"
      ]
    },
    {
      "cell_type": "code",
      "execution_count": null,
      "metadata": {
        "_uuid": "2567d003d69c26233b915df03509b3fd014beed4",
        "id": "haGh8KfuNnhL"
      },
      "outputs": [],
      "source": []
    }
  ],
  "metadata": {
    "kernelspec": {
      "display_name": "Python 3 (ipykernel)",
      "language": "python",
      "name": "python3"
    },
    "language_info": {
      "codemirror_mode": {
        "name": "ipython",
        "version": 3
      },
      "file_extension": ".py",
      "mimetype": "text/x-python",
      "name": "python",
      "nbconvert_exporter": "python",
      "pygments_lexer": "ipython3",
      "version": "3.9.12"
    },
    "colab": {
      "provenance": []
    }
  },
  "nbformat": 4,
  "nbformat_minor": 0
}